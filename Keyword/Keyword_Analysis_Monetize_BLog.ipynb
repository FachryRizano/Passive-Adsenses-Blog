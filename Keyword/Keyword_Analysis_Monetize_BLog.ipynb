{
  "cells": [
    {
      "cell_type": "code",
      "execution_count": 2,
      "metadata": {
        "colab": {
          "base_uri": "https://localhost:8080/"
        },
        "id": "75ERCbExrE7B",
        "outputId": "94c70897-a53b-4b08-f9b3-51beffd52129"
      },
      "outputs": [],
      "source": [
        "import seaborn as sns\n",
        "import matplotlib.pyplot as plt\n",
        "import pytrends\n",
        "from pytrends.request import TrendReq\n",
        "import pandas as pd"
      ]
    },
    {
      "cell_type": "code",
      "execution_count": 40,
      "metadata": {
        "id": "whU5j10MrRPG"
      },
      "outputs": [],
      "source": [
        "# Limit 5\n",
        "# Smartphone, Electric Vehicle \n",
        "kw_list = [\"nft\",'metaverse','machine learning','data science','big data']"
      ]
    },
    {
      "cell_type": "code",
      "execution_count": 41,
      "metadata": {
        "id": "QSIGM0gyr_gL"
      },
      "outputs": [],
      "source": [
        "pytrends = TrendReq(hl='en-US', tz=360)"
      ]
    },
    {
      "cell_type": "code",
      "execution_count": 42,
      "metadata": {
        "id": "eCiRrAvzryTW"
      },
      "outputs": [],
      "source": [
        "pytrends.build_payload(kw_list, cat=0, timeframe='today 5-y', gprop='')"
      ]
    },
    {
      "cell_type": "code",
      "execution_count": 43,
      "metadata": {
        "colab": {
          "base_uri": "https://localhost:8080/",
          "height": 454
        },
        "id": "wpxsGUq3sXwf",
        "outputId": "ecd2902b-52e9-4a71-f05f-16cc83be664e"
      },
      "outputs": [
        {
          "data": {
            "text/plain": [
              "<AxesSubplot:xlabel='date'>"
            ]
          },
          "execution_count": 43,
          "metadata": {},
          "output_type": "execute_result"
        },
        {
          "data": {
            "image/png": "[encoded data removed]",
            "text/plain": [
              "<Figure size 432x288 with 1 Axes>"
            ]
          },
          "metadata": {
            "needs_background": "light"
          },
          "output_type": "display_data"
        }
      ],
      "source": [
        "pytrends.interest_over_time().plot()"
      ]
    },
    {
      "cell_type": "code",
      "execution_count": 44,
      "metadata": {
        "colab": {
          "base_uri": "https://localhost:8080/",
          "height": 454
        },
        "id": "auveZ1_0oj_f",
        "outputId": "e202dc53-e258-4d15-d081-fa515ed3d663"
      },
      "outputs": [
        {
          "name": "stdout",
          "output_type": "stream",
          "text": [
            "('Connection aborted.', ConnectionResetError(10054, 'An existing connection was forcibly closed by the remote host', None, 10054, None))\n"
          ]
        },
        {
          "data": {
            "text/html": [
              "<div>\n",
              "<style scoped>\n",
              "    .dataframe tbody tr th:only-of-type {\n",
              "        vertical-align: middle;\n",
              "    }\n",
              "\n",
              "    .dataframe tbody tr th {\n",
              "        vertical-align: top;\n",
              "    }\n",
              "\n",
              "    .dataframe thead th {\n",
              "        text-align: right;\n",
              "    }\n",
              "</style>\n",
              "<table border=\"1\" class=\"dataframe\">\n",
              "  <thead>\n",
              "    <tr style=\"text-align: right;\">\n",
              "      <th></th>\n",
              "      <th>nft</th>\n",
              "      <th>metaverse</th>\n",
              "      <th>machine learning</th>\n",
              "      <th>data science</th>\n",
              "      <th>big data</th>\n",
              "      <th>isPartial</th>\n",
              "    </tr>\n",
              "    <tr>\n",
              "      <th>date</th>\n",
              "      <th></th>\n",
              "      <th></th>\n",
              "      <th></th>\n",
              "      <th></th>\n",
              "      <th></th>\n",
              "      <th></th>\n",
              "    </tr>\n",
              "  </thead>\n",
              "  <tbody>\n",
              "    <tr>\n",
              "      <th>2022-01-01 00:00:00</th>\n",
              "      <td>57</td>\n",
              "      <td>14</td>\n",
              "      <td>2</td>\n",
              "      <td>3</td>\n",
              "      <td>1</td>\n",
              "      <td>False</td>\n",
              "    </tr>\n",
              "    <tr>\n",
              "      <th>2022-01-01 01:00:00</th>\n",
              "      <td>57</td>\n",
              "      <td>11</td>\n",
              "      <td>2</td>\n",
              "      <td>4</td>\n",
              "      <td>1</td>\n",
              "      <td>False</td>\n",
              "    </tr>\n",
              "    <tr>\n",
              "      <th>2022-01-01 02:00:00</th>\n",
              "      <td>56</td>\n",
              "      <td>14</td>\n",
              "      <td>0</td>\n",
              "      <td>3</td>\n",
              "      <td>1</td>\n",
              "      <td>False</td>\n",
              "    </tr>\n",
              "    <tr>\n",
              "      <th>2022-01-01 03:00:00</th>\n",
              "      <td>48</td>\n",
              "      <td>12</td>\n",
              "      <td>4</td>\n",
              "      <td>1</td>\n",
              "      <td>2</td>\n",
              "      <td>False</td>\n",
              "    </tr>\n",
              "    <tr>\n",
              "      <th>2022-01-01 04:00:00</th>\n",
              "      <td>56</td>\n",
              "      <td>9</td>\n",
              "      <td>5</td>\n",
              "      <td>3</td>\n",
              "      <td>2</td>\n",
              "      <td>False</td>\n",
              "    </tr>\n",
              "    <tr>\n",
              "      <th>...</th>\n",
              "      <td>...</td>\n",
              "      <td>...</td>\n",
              "      <td>...</td>\n",
              "      <td>...</td>\n",
              "      <td>...</td>\n",
              "      <td>...</td>\n",
              "    </tr>\n",
              "    <tr>\n",
              "      <th>2022-04-22 21:00:00</th>\n",
              "      <td>80</td>\n",
              "      <td>10</td>\n",
              "      <td>10</td>\n",
              "      <td>8</td>\n",
              "      <td>5</td>\n",
              "      <td>False</td>\n",
              "    </tr>\n",
              "    <tr>\n",
              "      <th>2022-04-22 22:00:00</th>\n",
              "      <td>72</td>\n",
              "      <td>10</td>\n",
              "      <td>8</td>\n",
              "      <td>7</td>\n",
              "      <td>5</td>\n",
              "      <td>False</td>\n",
              "    </tr>\n",
              "    <tr>\n",
              "      <th>2022-04-22 23:00:00</th>\n",
              "      <td>71</td>\n",
              "      <td>9</td>\n",
              "      <td>9</td>\n",
              "      <td>8</td>\n",
              "      <td>4</td>\n",
              "      <td>False</td>\n",
              "    </tr>\n",
              "    <tr>\n",
              "      <th>2022-04-23 00:00:00</th>\n",
              "      <td>67</td>\n",
              "      <td>9</td>\n",
              "      <td>8</td>\n",
              "      <td>8</td>\n",
              "      <td>5</td>\n",
              "      <td>False</td>\n",
              "    </tr>\n",
              "    <tr>\n",
              "      <th>2022-04-23 00:00:00</th>\n",
              "      <td>52</td>\n",
              "      <td>7</td>\n",
              "      <td>6</td>\n",
              "      <td>6</td>\n",
              "      <td>4</td>\n",
              "      <td>False</td>\n",
              "    </tr>\n",
              "  </tbody>\n",
              "</table>\n",
              "<p>2536 rows × 6 columns</p>\n",
              "</div>"
            ],
            "text/plain": [
              "                     nft  metaverse  machine learning  data science  big data  \\\n",
              "date                                                                            \n",
              "2022-01-01 00:00:00   57         14                 2             3         1   \n",
              "2022-01-01 01:00:00   57         11                 2             4         1   \n",
              "2022-01-01 02:00:00   56         14                 0             3         1   \n",
              "2022-01-01 03:00:00   48         12                 4             1         2   \n",
              "2022-01-01 04:00:00   56          9                 5             3         2   \n",
              "...                  ...        ...               ...           ...       ...   \n",
              "2022-04-22 21:00:00   80         10                10             8         5   \n",
              "2022-04-22 22:00:00   72         10                 8             7         5   \n",
              "2022-04-22 23:00:00   71          9                 9             8         4   \n",
              "2022-04-23 00:00:00   67          9                 8             8         5   \n",
              "2022-04-23 00:00:00   52          7                 6             6         4   \n",
              "\n",
              "                     isPartial  \n",
              "date                            \n",
              "2022-01-01 00:00:00      False  \n",
              "2022-01-01 01:00:00      False  \n",
              "2022-01-01 02:00:00      False  \n",
              "2022-01-01 03:00:00      False  \n",
              "2022-01-01 04:00:00      False  \n",
              "...                        ...  \n",
              "2022-04-22 21:00:00      False  \n",
              "2022-04-22 22:00:00      False  \n",
              "2022-04-22 23:00:00      False  \n",
              "2022-04-23 00:00:00      False  \n",
              "2022-04-23 00:00:00      False  \n",
              "\n",
              "[2536 rows x 6 columns]"
            ]
          },
          "execution_count": 44,
          "metadata": {},
          "output_type": "execute_result"
        }
      ],
      "source": [
        "pytrends.get_historical_interest(kw_list,year_start=2022, month_start=1, day_start=1, hour_start=0, year_end=2022, month_end=4, day_end=23, hour_end=0)"
      ]
    },
    {
      "cell_type": "code",
      "execution_count": 45,
      "metadata": {
        "colab": {
          "base_uri": "https://localhost:8080/",
          "height": 721
        },
        "id": "O43rjB0lxaXQ",
        "outputId": "06beb3a9-ff18-4158-d5ef-98edcb9f0ffe"
      },
      "outputs": [
        {
          "data": {
            "text/plain": [
              "<AxesSubplot:>"
            ]
          },
          "execution_count": 45,
          "metadata": {},
          "output_type": "execute_result"
        },
        {
          "data": {
            "image/png": "[encoded data removed]",
            "text/plain": [
              "<Figure size 2160x1440 with 1 Axes>"
            ]
          },
          "metadata": {
            "needs_background": "light"
          },
          "output_type": "display_data"
        }
      ],
      "source": [
        "df = pytrends.interest_over_time().iloc[:,:-1]\n",
        "plt.figure(figsize=(30,20))\n",
        "sns.boxplot(data = df)"
      ]
    },
    {
      "cell_type": "code",
      "execution_count": 46,
      "metadata": {
        "colab": {
          "base_uri": "https://localhost:8080/"
        },
        "id": "cwQClP1fssQy",
        "outputId": "820495fd-e1ef-46f7-f7f9-6f5c1d24add1"
      },
      "outputs": [
        {
          "data": {
            "text/plain": [
              "{}"
            ]
          },
          "execution_count": 46,
          "metadata": {},
          "output_type": "execute_result"
        }
      ],
      "source": [
        "pytrends.related_topics()"
      ]
    },
    {
      "cell_type": "code",
      "execution_count": 64,
      "metadata": {
        "colab": {
          "base_uri": "https://localhost:8080/"
        },
        "id": "nW3IqRVbtWRD",
        "outputId": "4aaea840-f4db-44ae-f8fa-f4af73f366cf"
      },
      "outputs": [],
      "source": [
        "main_sample = pd.DataFrame()\n",
        "for label,meta in pytrends.related_queries().items():\n",
        "    for tipe,data in meta.items():\n",
        "        data['topic'] = label\n",
        "        data['type'] = tipe\n",
        "        main_sample = pd.concat([main_sample,data])        \n",
        "        "
      ]
    },
    {
      "cell_type": "code",
      "execution_count": 78,
      "metadata": {},
      "outputs": [],
      "source": [
        "main_sample.reset_index().drop('index',axis=1,inplace=True)\n",
        "main_topic_kw = {kw:main_sample.groupby(main_sample['topic']).get_group(kw) for kw in kw_list}\n",
        "    "
      ]
    },
    {
      "cell_type": "code",
      "execution_count": 80,
      "metadata": {},
      "outputs": [],
      "source": [
        "for kw,data in main_topic_kw.items():\n",
        "    data.to_csv(f\"./topics/{kw}_keywords.csv\",index=False)"
      ]
    }
  ],
  "metadata": {
    "colab": {
      "name": "Keyword Analysis Monetize BLog.ipynb",
      "provenance": []
    },
    "kernelspec": {
      "display_name": "Python 3",
      "name": "python3"
    },
    "language_info": {
      "codemirror_mode": {
        "name": "ipython",
        "version": 3
      },
      "file_extension": ".py",
      "mimetype": "text/x-python",
      "name": "python",
      "nbconvert_exporter": "python",
      "pygments_lexer": "ipython3",
      "version": "3.6.8"
    }
  },
  "nbformat": 4,
  "nbformat_minor": 0
}
